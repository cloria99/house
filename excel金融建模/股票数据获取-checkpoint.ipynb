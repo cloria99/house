{
 "cells": [
  {
   "cell_type": "code",
   "execution_count": 46,
   "metadata": {},
   "outputs": [],
   "source": [
    "import tushare as ts\n",
    "import pandas as pd\n",
    "import numpy as np\n",
    "import scipy.stats\n",
    "import matplotlib.pyplot as plt\n",
    "\n",
    "pro = ts.pro_api('bdce60b38d1f23073a29815bccdda57e7b4dcd4b10bd91d269a737d1') #这里需要填写你注册好的Tushare的TOKEN凭证"
   ]
  },
  {
   "cell_type": "code",
   "execution_count": 47,
   "metadata": {},
   "outputs": [
    {
     "name": "stdout",
     "output_type": "stream",
     "text": [
      "数据量： 4765\n"
     ]
    },
    {
     "data": {
      "text/html": [
       "<div>\n",
       "<style scoped>\n",
       "    .dataframe tbody tr th:only-of-type {\n",
       "        vertical-align: middle;\n",
       "    }\n",
       "\n",
       "    .dataframe tbody tr th {\n",
       "        vertical-align: top;\n",
       "    }\n",
       "\n",
       "    .dataframe thead th {\n",
       "        text-align: right;\n",
       "    }\n",
       "</style>\n",
       "<table border=\"1\" class=\"dataframe\">\n",
       "  <thead>\n",
       "    <tr style=\"text-align: right;\">\n",
       "      <th></th>\n",
       "      <th>ts_code</th>\n",
       "      <th>trade_date</th>\n",
       "      <th>open</th>\n",
       "      <th>high</th>\n",
       "      <th>low</th>\n",
       "      <th>close</th>\n",
       "      <th>pre_close</th>\n",
       "      <th>change</th>\n",
       "      <th>pct_chg</th>\n",
       "      <th>vol</th>\n",
       "      <th>amount</th>\n",
       "    </tr>\n",
       "  </thead>\n",
       "  <tbody>\n",
       "    <tr>\n",
       "      <th>0</th>\n",
       "      <td>600377.SH</td>\n",
       "      <td>20201231</td>\n",
       "      <td>9.12</td>\n",
       "      <td>9.22</td>\n",
       "      <td>9.09</td>\n",
       "      <td>9.21</td>\n",
       "      <td>9.12</td>\n",
       "      <td>0.09</td>\n",
       "      <td>0.9868</td>\n",
       "      <td>47923.58</td>\n",
       "      <td>43817.975</td>\n",
       "    </tr>\n",
       "    <tr>\n",
       "      <th>1</th>\n",
       "      <td>600377.SH</td>\n",
       "      <td>20201230</td>\n",
       "      <td>9.11</td>\n",
       "      <td>9.14</td>\n",
       "      <td>9.06</td>\n",
       "      <td>9.12</td>\n",
       "      <td>9.09</td>\n",
       "      <td>0.03</td>\n",
       "      <td>0.3300</td>\n",
       "      <td>34856.33</td>\n",
       "      <td>31723.352</td>\n",
       "    </tr>\n",
       "    <tr>\n",
       "      <th>2</th>\n",
       "      <td>600377.SH</td>\n",
       "      <td>20201229</td>\n",
       "      <td>9.11</td>\n",
       "      <td>9.15</td>\n",
       "      <td>9.06</td>\n",
       "      <td>9.09</td>\n",
       "      <td>9.09</td>\n",
       "      <td>0.00</td>\n",
       "      <td>0.0000</td>\n",
       "      <td>34523.51</td>\n",
       "      <td>31434.995</td>\n",
       "    </tr>\n",
       "    <tr>\n",
       "      <th>3</th>\n",
       "      <td>600377.SH</td>\n",
       "      <td>20201228</td>\n",
       "      <td>9.16</td>\n",
       "      <td>9.21</td>\n",
       "      <td>9.08</td>\n",
       "      <td>9.09</td>\n",
       "      <td>9.15</td>\n",
       "      <td>-0.06</td>\n",
       "      <td>-0.6557</td>\n",
       "      <td>55383.14</td>\n",
       "      <td>50630.824</td>\n",
       "    </tr>\n",
       "    <tr>\n",
       "      <th>4</th>\n",
       "      <td>600377.SH</td>\n",
       "      <td>20201225</td>\n",
       "      <td>9.19</td>\n",
       "      <td>9.26</td>\n",
       "      <td>9.14</td>\n",
       "      <td>9.15</td>\n",
       "      <td>9.18</td>\n",
       "      <td>-0.03</td>\n",
       "      <td>-0.3268</td>\n",
       "      <td>35358.39</td>\n",
       "      <td>32504.095</td>\n",
       "    </tr>\n",
       "  </tbody>\n",
       "</table>\n",
       "</div>"
      ],
      "text/plain": [
       "     ts_code trade_date  open  high   low  close  pre_close  change  pct_chg  \\\n",
       "0  600377.SH   20201231  9.12  9.22  9.09   9.21       9.12    0.09   0.9868   \n",
       "1  600377.SH   20201230  9.11  9.14  9.06   9.12       9.09    0.03   0.3300   \n",
       "2  600377.SH   20201229  9.11  9.15  9.06   9.09       9.09    0.00   0.0000   \n",
       "3  600377.SH   20201228  9.16  9.21  9.08   9.09       9.15   -0.06  -0.6557   \n",
       "4  600377.SH   20201225  9.19  9.26  9.14   9.15       9.18   -0.03  -0.3268   \n",
       "\n",
       "        vol     amount  \n",
       "0  47923.58  43817.975  \n",
       "1  34856.33  31723.352  \n",
       "2  34523.51  31434.995  \n",
       "3  55383.14  50630.824  \n",
       "4  35358.39  32504.095  "
      ]
     },
     "execution_count": 47,
     "metadata": {},
     "output_type": "execute_result"
    }
   ],
   "source": [
    "ticker_data = pro.daily(ts_code='600377.SH')\n",
    "print('数据量：',len(ticker_data))\n",
    "ticker_data.head(5)"
   ]
  },
  {
   "cell_type": "code",
   "execution_count": 50,
   "metadata": {},
   "outputs": [],
   "source": [
    "import pandas as pd\n",
    "ticker_data.to_excel('C:\\\\Users\\\\Lenovo\\\\Desktop\\\\daily.xlsx') "
   ]
  },
  {
   "cell_type": "code",
   "execution_count": null,
   "metadata": {},
   "outputs": [],
   "source": []
  }
 ],
 "metadata": {
  "kernelspec": {
   "display_name": "Python 3",
   "language": "python",
   "name": "python3"
  },
  "language_info": {
   "codemirror_mode": {
    "name": "ipython",
    "version": 3
   },
   "file_extension": ".py",
   "mimetype": "text/x-python",
   "name": "python",
   "nbconvert_exporter": "python",
   "pygments_lexer": "ipython3",
   "version": "3.7.0"
  }
 },
 "nbformat": 4,
 "nbformat_minor": 2
}
